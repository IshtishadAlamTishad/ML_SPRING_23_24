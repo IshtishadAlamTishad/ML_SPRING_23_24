{
 "cells": [
  {
   "cell_type": "code",
   "execution_count": 3,
   "metadata": {},
   "outputs": [
    {
     "ename": "ModuleNotFoundError",
     "evalue": "No module named 'matplotlib'",
     "output_type": "error",
     "traceback": [
      "\u001b[1;31m---------------------------------------------------------------------------\u001b[0m",
      "\u001b[1;31mModuleNotFoundError\u001b[0m                       Traceback (most recent call last)",
      "Cell \u001b[1;32mIn[3], line 2\u001b[0m\n\u001b[0;32m      1\u001b[0m \u001b[38;5;28;01mimport\u001b[39;00m \u001b[38;5;21;01mnumpy\u001b[39;00m \u001b[38;5;28;01mas\u001b[39;00m \u001b[38;5;21;01mnp\u001b[39;00m\n\u001b[1;32m----> 2\u001b[0m \u001b[38;5;28;01mimport\u001b[39;00m \u001b[38;5;21;01mmatplotlib\u001b[39;00m\u001b[38;5;21;01m.\u001b[39;00m\u001b[38;5;21;01mpyplot\u001b[39;00m \u001b[38;5;28;01mas\u001b[39;00m \u001b[38;5;21;01mplt\u001b[39;00m\n\u001b[0;32m      3\u001b[0m \u001b[38;5;28;01mimport\u001b[39;00m \u001b[38;5;21;01mtensorflow\u001b[39;00m \u001b[38;5;28;01mas\u001b[39;00m \u001b[38;5;21;01mtf\u001b[39;00m\n\u001b[0;32m      4\u001b[0m \u001b[38;5;28;01mimport\u001b[39;00m \u001b[38;5;21;01mdata_utils\u001b[39;00m\n",
      "\u001b[1;31mModuleNotFoundError\u001b[0m: No module named 'matplotlib'"
     ]
    }
   ],
   "source": [
    "import numpy as np\n",
    "import matplotlib.pyplot as plt\n",
    "import tensorflow as tf\n",
    "import data_utils\n",
    "import download"
   ]
  },
  {
   "cell_type": "code",
   "execution_count": null,
   "metadata": {},
   "outputs": [],
   "source": [
    "def download_data():\n",
    "    url = \"https://www.cs.toronto.edu/~kriz/cifar-10-python.tar.gz\"\n",
    "    download_dir = \"./data\"\n",
    "    download.maybe_download_and_extract(url,download_dir)"
   ]
  },
  {
   "cell_type": "code",
   "execution_count": null,
   "metadata": {},
   "outputs": [],
   "source": [
    "# Class to initialize and apply K-nearest neighbour classifier\n",
    "class KNearestNeighbor(object):\n",
    "    def __init__(self):\n",
    "        pass\n",
    "\n",
    "    # Method to initialize classifier with training data\n",
    "    def train(self, X, y):\n",
    "        self.X_train = X\n",
    "        self.y_train = y\n",
    "    \n",
    "    # Method to predict labels of test examples using 'compute_distances' and 'predict_labels' methods.\n",
    "    def predict(self, X, k=1, num_loops=0):\n",
    "        if num_loops == 0:\n",
    "            dists = self.compute_distances(X)\n",
    "        else:\n",
    "            raise ValueError('Invalid value %d for num_loops' % num_loops)\n",
    "        return self.predict_labels(dists, k=k)\n",
    "\n",
    "\n",
    "    def compute_distances(self, X, metric='euclidean'):\n",
    "        if metric == 'euclidean':\n",
    "            return self.euclidean_distance(X)\n",
    "        elif metric == 'manhattan':\n",
    "            return self.manhattan_distance(X)\n",
    "        else:\n",
    "            raise ValueError('Invalid metric: %s' % metric)\n",
    "\n",
    "    #  Euclidean distances   \n",
    "    def euclidean_distance(self, X):\n",
    "        num_test = X.shape[0]\n",
    "        num_train = self.X_train.shape[0]\n",
    "        dists = np.zeros((num_test, num_train))\n",
    "\n",
    "        for i in range(num_test):\n",
    "            dists[i,:] = np.sqrt(np.sum((self.X_train - X[i,:])**2, axis=1))\n",
    "        return dists\n",
    "\n",
    "    # Manhattan distances   \n",
    "    def manhattan_distance(self, X):\n",
    "        num_test = X.shape[0]\n",
    "        num_train = self.X_train.shape[0]\n",
    "        dists = np.zeros((num_test, num_train))\n",
    "\n",
    "        for i in range(num_test):\n",
    "            dists[i,:] = np.sum(np.abs(self.X_train - X[i,:]), axis=1)\n",
    "        return dists\n",
    "    \n",
    "    # Method to predict labels of test examples using chosen value of k given Euclidean distances obtained from 'compute_distances' method.\n",
    "    def predict_labels(self, dists, k=1):\n",
    "        num_test = dists.shape[0]\n",
    "        y_pred = np.zeros(num_test)\n",
    "        for i in range(num_test):\n",
    "            closest_y = []\n",
    "            closest_y = self.y_train[np.argsort(dists[i, :])[:k]]\n",
    "            y_pred[i] = np.argmax(np.bincount(closest_y))\n",
    "        return y_pred\n"
   ]
  },
  {
   "cell_type": "code",
   "execution_count": null,
   "metadata": {},
   "outputs": [],
   "source": [
    "def visualize_data(X_train, y_train):\n",
    "    classes = ['plane', 'car', 'bird', 'cat', 'deer', 'dog', 'frog', 'horse', 'ship', 'truck']\n",
    "    num_classes = len(classes)\n",
    "    samples_per_class = 7\n",
    "    for y, cls in enumerate(classes):\n",
    "        idxs = np.flatnonzero(y_train == y)\n",
    "        idxs = np.random.choice(idxs, samples_per_class, replace=False)\n",
    "        for i, idx in enumerate(idxs):\n",
    "            plt_idx = i * num_classes + y + 1\n",
    "            plt.subplot(samples_per_class, num_classes, plt_idx)\n",
    "            plt.imshow(X_train[idx].astype('uint8'))\n",
    "            plt.axis('off')\n",
    "            if i == 0:\n",
    "                plt.title(cls)\n",
    "    plt.show()\n"
   ]
  },
  {
   "cell_type": "code",
   "execution_count": null,
   "metadata": {},
   "outputs": [
    {
     "name": "stdout",
     "output_type": "stream",
     "text": [
      "Training data shape:  (50000, 32, 32, 3)\n",
      "Training labels shape:  (50000,)\n",
      "Test data shape:  (10000, 32, 32, 3)\n",
      "Test labels shape:  (10000,)\n"
     ]
    }
   ],
   "source": [
    "if __name__ == \"__main__\":\n",
    "    # Download CIFAR10 data and store it in the current directory if you have not done it.\n",
    "#    download_data()\n",
    "    cifar10_dir = './data/cifar-10-batches-py'\n",
    "\n",
    "    # Load training and testing data from CIFAR10 dataset\n",
    "    X_train, y_train, X_test, y_test = data_utils.load_CIFAR10(cifar10_dir)\n",
    "\n",
    "    # Checking the size of the training and testing data\n",
    "    print('Training data shape: ', X_train.shape)\n",
    "    print('Training labels shape: ', y_train.shape)\n",
    "    print('Test data shape: ', X_test.shape)\n",
    "    print('Test labels shape: ', y_test.shape)\n"
   ]
  },
  {
   "cell_type": "code",
   "execution_count": null,
   "metadata": {},
   "outputs": [],
   "source": [
    "# sampling 10000 training examples and 1000 test examples\n",
    "num_training = 10000\n",
    "mask = list(range(num_training))\n",
    "X_train = X_train[mask]\n",
    "y_train = y_train[mask]\n",
    "\n",
    "num_test = 1000\n",
    "mask = list(range(num_test))\n",
    "X_test = X_test[mask]\n",
    "y_test = y_test[mask]"
   ]
  },
  {
   "cell_type": "code",
   "execution_count": null,
   "metadata": {},
   "outputs": [
    {
     "name": "stdout",
     "output_type": "stream",
     "text": [
      "(10000, 3072) (1000, 3072)\n"
     ]
    }
   ],
   "source": [
    "# Reshape data and place into rows. Flatten the training and test data so each row\n",
    "X_train = np.reshape(X_train, (X_train.shape[0], -1))\n",
    "X_test = np.reshape(X_test, (X_test.shape[0], -1))\n",
    "print(X_train.shape, X_test.shape)  # X_train should be (10000, 3072) and X_test should be (1000, 3072)"
   ]
  },
  {
   "cell_type": "code",
   "execution_count": null,
   "metadata": {},
   "outputs": [],
   "source": [
    "X_train"
   ]
  },
  {
   "cell_type": "code",
   "execution_count": null,
   "metadata": {},
   "outputs": [],
   "source": [
    "y_train"
   ]
  },
  {
   "cell_type": "code",
   "execution_count": null,
   "metadata": {},
   "outputs": [],
   "source": [
    "   # Performing KNN\n",
    "classifier = KNearestNeighbor()\n",
    "classifier.train(X_train, y_train)\n",
    "dists = classifier.compute_distances(X_test)"
   ]
  },
  {
   "cell_type": "code",
   "execution_count": null,
   "metadata": {},
   "outputs": [],
   "source": [
    "  # Performing 5-fold cross validation to find the optimal k from choices \n",
    "num_folds = 5\n",
    "k_choices = [1, 3, 5, 8, 10]\n",
    "\n",
    "X_train_folds = np.array_split(X_train, num_folds)\n",
    "y_train_folds = np.array_split(y_train, num_folds)"
   ]
  },
  {
   "cell_type": "code",
   "execution_count": null,
   "metadata": {},
   "outputs": [],
   "source": [
    "k_to_accuracies = {}\n",
    "\n",
    "distsVal = classifier.compute_distances(X_train_folds[0])\n",
    "for k in k_choices:\n",
    "    k_to_accuracies[k] = []  \n",
    "\n",
    "    for fold in range(num_folds):\n",
    "        start_idx = fold * (len(X_train_folds) // num_folds)\n",
    "        end_idx = (fold + 1) * (len(X_train_folds) // num_folds)\n",
    "        X_val_fold_current = X_train_folds[start_idx:end_idx]\n",
    "        y_val_fold_current = y_train_folds[start_idx:end_idx]\n",
    "        distsFold = distsVal[start_idx:end_idx]\n",
    "\n",
    "        # Predicting labels for validation fold\n",
    "        y_val_pred = classifier.predict_labels(distsFold, k=k)\n",
    "\n",
    "        # Computing accuracy\n",
    "        accuracy = np.mean(y_val_pred == y_val_fold_current)\n",
    "        k_to_accuracies[k].append(accuracy)\n"
   ]
  },
  {
   "cell_type": "code",
   "execution_count": null,
   "metadata": {},
   "outputs": [
    {
     "name": "stdout",
     "output_type": "stream",
     "text": [
      "Printing our 5-fold accuracies for varying values of k:\n",
      "\n",
      "k = 1, accuracy = 0.103500\n",
      "k = 1, accuracy = 0.105000\n",
      "k = 1, accuracy = 0.100000\n",
      "k = 1, accuracy = 0.097500\n",
      "k = 1, accuracy = 0.104500\n",
      "k = 3, accuracy = 0.103500\n",
      "k = 3, accuracy = 0.108500\n",
      "k = 3, accuracy = 0.107000\n",
      "k = 3, accuracy = 0.097500\n",
      "k = 3, accuracy = 0.108000\n",
      "k = 5, accuracy = 0.103500\n",
      "k = 5, accuracy = 0.102000\n",
      "k = 5, accuracy = 0.107000\n",
      "k = 5, accuracy = 0.108000\n",
      "k = 5, accuracy = 0.104500\n",
      "k = 8, accuracy = 0.103500\n",
      "k = 8, accuracy = 0.102000\n",
      "k = 8, accuracy = 0.100000\n",
      "k = 8, accuracy = 0.108000\n",
      "k = 8, accuracy = 0.108000\n",
      "k = 10, accuracy = 0.103500\n",
      "k = 10, accuracy = 0.102000\n",
      "k = 10, accuracy = 0.100000\n",
      "k = 10, accuracy = 0.108000\n",
      "k = 10, accuracy = 0.104500\n",
      "k = 1, avg. accuracy = 0.102100\n",
      "k = 3, avg. accuracy = 0.104900\n",
      "k = 5, avg. accuracy = 0.105000\n",
      "k = 8, avg. accuracy = 0.104300\n",
      "k = 10, avg. accuracy = 0.103600\n"
     ]
    },
    {
     "data": {
      "image/png": "[encoded data removed]",
      "text/plain": [
       "<Figure size 640x480 with 1 Axes>"
      ]
     },
     "metadata": {},
     "output_type": "display_data"
    }
   ],
   "source": [
    "\n",
    "print(\"Printing our 5-fold accuracies for varying values of k:\")\n",
    "print()\n",
    "for k in sorted(k_to_accuracies):\n",
    "    for accuracy in k_to_accuracies[k]:\n",
    "        print('k = %d, accuracy = %f' % (k, accuracy))\n",
    "    \n",
    "for k in sorted(k_to_accuracies):\n",
    "        print('k = %d, avg. accuracy = %f' % (k, sum(k_to_accuracies[k])/5))\n",
    "    \n",
    "for k in k_choices:\n",
    "    accuracies = k_to_accuracies[k]\n",
    "    plt.scatter([k] * len(accuracies), accuracies)"
   ]
  },
  {
   "cell_type": "code",
   "execution_count": null,
   "metadata": {},
   "outputs": [
    {
     "data": {
      "image/png": "[encoded data removed]",
      "text/plain": [
       "<Figure size 640x480 with 1 Axes>"
      ]
     },
     "metadata": {},
     "output_type": "display_data"
    }
   ],
   "source": [
    " # Ploting the trendLine\n",
    "accuracies_mean = np.array([np.mean(v) for k, v in sorted(k_to_accuracies.items())])\n",
    "accuracies_std = np.array([np.std(v) for k, v in sorted(k_to_accuracies.items())])\n",
    "plt.errorbar(k_choices, accuracies_mean, yerr=accuracies_std)\n",
    "plt.title('Cross-validation on k')\n",
    "plt.xlabel('k')\n",
    "plt.ylabel('Cross-validation accuracy')\n",
    "plt.savefig('cross-validation_accuracy.jpg')"
   ]
  },
  {
   "cell_type": "code",
   "execution_count": null,
   "metadata": {},
   "outputs": [
    {
     "name": "stdout",
     "output_type": "stream",
     "text": [
      "Best k =  5\n"
     ]
    }
   ],
   "source": [
    "best_k = max(k_choices, key= lambda x: np.mean(k_to_accuracies[x]))\n",
    "print(\"Best k = \",best_k)"
   ]
  },
  {
   "cell_type": "code",
   "execution_count": null,
   "metadata": {},
   "outputs": [],
   "source": [
    "# Trainning the classifier with the best k\n",
    "classifier.train(X_train, y_train)"
   ]
  },
  {
   "cell_type": "code",
   "execution_count": null,
   "metadata": {},
   "outputs": [],
   "source": [
    "# Predict labels for test data using the best k\n",
    "y_test_pred = classifier.predict(X_test, k=best_k)"
   ]
  },
  {
   "cell_type": "code",
   "execution_count": null,
   "metadata": {},
   "outputs": [
    {
     "name": "stdout",
     "output_type": "stream",
     "text": [
      "Got 296 / 1000 correct on test data => accuracy: 29.600000\n"
     ]
    }
   ],
   "source": [
    "# Computing and displaying the accuracy for best k found during cross-validation\n",
    "num_correct = np.sum(y_test_pred == y_test)\n",
    "accuracy = float(num_correct) / num_test\n",
    "print('Got %d / %d correct on test data => accuracy: %f' % (num_correct, num_test, accuracy*100))"
   ]
  },
  {
   "cell_type": "markdown",
   "metadata": {},
   "source": [
    "**Bonus part** \n",
    "*(Comparing Accuracies Manhattan distance for k=5 and best value of k)*"
   ]
  },
  {
   "cell_type": "code",
   "execution_count": null,
   "metadata": {},
   "outputs": [],
   "source": [
    "classifier_manhattan = KNearestNeighbor()"
   ]
  },
  {
   "cell_type": "code",
   "execution_count": null,
   "metadata": {},
   "outputs": [],
   "source": [
    "# Trainning the classifier with the training data\n",
    "classifier_manhattan.train(X_train, y_train)"
   ]
  },
  {
   "cell_type": "code",
   "execution_count": null,
   "metadata": {},
   "outputs": [],
   "source": [
    "# Compute distances for the test set using Manhattan distance\n",
    "dists_test_manhattan = classifier_manhattan.compute_distances(X_test, metric='manhattan')"
   ]
  },
  {
   "cell_type": "code",
   "execution_count": null,
   "metadata": {},
   "outputs": [],
   "source": [
    "# Predict labels for test data using k=5 for Manhattan distance\n",
    "y_test_pred_manhattan_5 = classifier_manhattan.predict_labels(dists_test_manhattan, k=5)"
   ]
  },
  {
   "cell_type": "code",
   "execution_count": null,
   "metadata": {},
   "outputs": [],
   "source": [
    "# Predict labels for test data using the best k for Manhattan distance\n",
    "y_testPred_ManhattanBest = classifier_manhattan.predict(X_test, k=best_k)"
   ]
  },
  {
   "cell_type": "code",
   "execution_count": null,
   "metadata": {},
   "outputs": [],
   "source": [
    "# Computing and display the accuracies for Manhattan distance\n",
    "accuracyManhattan = np.mean(y_test_pred_manhattan_5 == y_test)\n",
    "accuracyManhattanBest = np.mean(y_testPred_ManhattanBest == y_test)"
   ]
  },
  {
   "cell_type": "code",
   "execution_count": null,
   "metadata": {},
   "outputs": [
    {
     "name": "stdout",
     "output_type": "stream",
     "text": [
      "\n",
      "Accuracy on test data with k = 5 (Manhattan Distance):  31.0\n",
      "\n",
      "Accuracy on test data with best k for Manhattan Distance: 29.599999999999998\n"
     ]
    }
   ],
   "source": [
    "print('\\nAccuracy on test data with k = 5 (Manhattan Distance): ' , accuracyManhattan*100)\n",
    "print()\n",
    "print('Accuracy on test data with best k for Manhattan Distance:' , accuracyManhattanBest*100)"
   ]
  }
 ],
 "metadata": {
  "kernelspec": {
   "display_name": "base",
   "language": "python",
   "name": "python3"
  },
  "language_info": {
   "codemirror_mode": {
    "name": "ipython",
    "version": 3
   },
   "file_extension": ".py",
   "mimetype": "text/x-python",
   "name": "python",
   "nbconvert_exporter": "python",
   "pygments_lexer": "ipython3",
   "version": "3.10.14"
  }
 },
 "nbformat": 4,
 "nbformat_minor": 2
}
